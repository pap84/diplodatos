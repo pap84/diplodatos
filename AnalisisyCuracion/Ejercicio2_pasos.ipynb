{
 "cells": [
  {
   "cell_type": "code",
   "execution_count": 36,
   "metadata": {},
   "outputs": [],
   "source": [
    "import gmplot\n",
    "import pandas as pd\n",
    "import numpy as np"
   ]
  },
  {
   "cell_type": "code",
   "execution_count": 37,
   "metadata": {},
   "outputs": [
    {
     "data": {
      "text/plain": [
       "key         object\n",
       "location    object\n",
       "name        object\n",
       "dtype: object"
      ]
     },
     "execution_count": 37,
     "metadata": {},
     "output_type": "execute_result"
    }
   ],
   "source": [
    "pasos = pd.read_json(\"./input/pasos.json\")\n",
    "pasos.dtypes"
   ]
  },
  {
   "cell_type": "code",
   "execution_count": 38,
   "metadata": {},
   "outputs": [
    {
     "data": {
      "text/html": [
       "<div>\n",
       "<style scoped>\n",
       "    .dataframe tbody tr th:only-of-type {\n",
       "        vertical-align: middle;\n",
       "    }\n",
       "\n",
       "    .dataframe tbody tr th {\n",
       "        vertical-align: top;\n",
       "    }\n",
       "\n",
       "    .dataframe thead th {\n",
       "        text-align: right;\n",
       "    }\n",
       "</style>\n",
       "<table border=\"1\" class=\"dataframe\">\n",
       "  <thead>\n",
       "    <tr style=\"text-align: right;\">\n",
       "      <th></th>\n",
       "      <th>key</th>\n",
       "      <th>location</th>\n",
       "      <th>name</th>\n",
       "    </tr>\n",
       "  </thead>\n",
       "  <tbody>\n",
       "    <tr>\n",
       "      <th>0</th>\n",
       "      <td>SAN SEBASTIAN  ( USHUAIA )</td>\n",
       "      <td>[-54.832543, -68.3712885]</td>\n",
       "      <td>SAN SEBASTIAN  ( USHUAIA )</td>\n",
       "    </tr>\n",
       "    <tr>\n",
       "      <th>1</th>\n",
       "      <td>AERO PUBLICO DE USHUAIA</td>\n",
       "      <td>[-54.8249379, -68.3258626]</td>\n",
       "      <td>AERO PUBLICO DE USHUAIA</td>\n",
       "    </tr>\n",
       "    <tr>\n",
       "      <th>2</th>\n",
       "      <td>PUERTO USHUAIA (PREFECTURA)</td>\n",
       "      <td>[-54.8096728, -68.3114748]</td>\n",
       "      <td>PUERTO USHUAIA (PREFECTURA)</td>\n",
       "    </tr>\n",
       "    <tr>\n",
       "      <th>3</th>\n",
       "      <td>PUERTO USHUAIA</td>\n",
       "      <td>[-54.8019121, -68.3029511]</td>\n",
       "      <td>PUERTO USHUAIA</td>\n",
       "    </tr>\n",
       "    <tr>\n",
       "      <th>4</th>\n",
       "      <td>PASO LAURITA CASAS VIEJAS</td>\n",
       "      <td>[-51.6896359, -72.2993574]</td>\n",
       "      <td>PASO LAURITA CASAS VIEJAS</td>\n",
       "    </tr>\n",
       "  </tbody>\n",
       "</table>\n",
       "</div>"
      ],
      "text/plain": [
       "                           key                    location  \\\n",
       "0   SAN SEBASTIAN  ( USHUAIA )   [-54.832543, -68.3712885]   \n",
       "1      AERO PUBLICO DE USHUAIA  [-54.8249379, -68.3258626]   \n",
       "2  PUERTO USHUAIA (PREFECTURA)  [-54.8096728, -68.3114748]   \n",
       "3               PUERTO USHUAIA  [-54.8019121, -68.3029511]   \n",
       "4    PASO LAURITA CASAS VIEJAS  [-51.6896359, -72.2993574]   \n",
       "\n",
       "                          name  \n",
       "0   SAN SEBASTIAN  ( USHUAIA )  \n",
       "1      AERO PUBLICO DE USHUAIA  \n",
       "2  PUERTO USHUAIA (PREFECTURA)  \n",
       "3               PUERTO USHUAIA  \n",
       "4    PASO LAURITA CASAS VIEJAS  "
      ]
     },
     "execution_count": 38,
     "metadata": {},
     "output_type": "execute_result"
    }
   ],
   "source": [
    "pasos.head()"
   ]
  },
  {
   "cell_type": "code",
   "execution_count": 39,
   "metadata": {},
   "outputs": [
    {
     "data": {
      "text/plain": [
       "[-54.832543, -68.3712885]"
      ]
     },
     "execution_count": 39,
     "metadata": {},
     "output_type": "execute_result"
    }
   ],
   "source": [
    "pasos_loc = pasos.location.tolist()\n",
    "pasos_loc[0]"
   ]
  },
  {
   "cell_type": "code",
   "execution_count": 40,
   "metadata": {},
   "outputs": [],
   "source": [
    "lat,long =  zip(*pasos_loc)\n",
    "lat_mean = np.mean(lat)\n",
    "long_mean = np.mean(long)"
   ]
  },
  {
   "cell_type": "code",
   "execution_count": 41,
   "metadata": {},
   "outputs": [],
   "source": [
    "gmap = gmplot.GoogleMapPlotter(lat_mean,long_mean,4)"
   ]
  },
  {
   "cell_type": "code",
   "execution_count": 42,
   "metadata": {},
   "outputs": [],
   "source": [
    "gmap.scatter(lat, long, '#3B0B39', size=10000, marker=False)\n",
    "gmap.draw(\"pasos.html\")"
   ]
  },
  {
   "cell_type": "raw",
   "metadata": {},
   "source": []
  }
 ],
 "metadata": {
  "kernelspec": {
   "display_name": "Python 3",
   "language": "python",
   "name": "python3"
  },
  "language_info": {
   "codemirror_mode": {
    "name": "ipython",
    "version": 3
   },
   "file_extension": ".py",
   "mimetype": "text/x-python",
   "name": "python",
   "nbconvert_exporter": "python",
   "pygments_lexer": "ipython3",
   "version": "3.5.5"
  }
 },
 "nbformat": 4,
 "nbformat_minor": 2
}
