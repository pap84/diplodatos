{
 "cells": [
  {
   "cell_type": "markdown",
   "metadata": {},
   "source": [
    "Análisis del Facundo\n",
    "=================="
   ]
  },
  {
   "cell_type": "code",
   "execution_count": null,
   "metadata": {},
   "outputs": [],
   "source": [
    "import spacy\n",
    "import textacy\n",
    "import pandas as pd\n",
    "import seaborn as sns\n",
    "import matplotlib.pyplot as plt"
   ]
  },
  {
   "cell_type": "code",
   "execution_count": 2,
   "metadata": {},
   "outputs": [],
   "source": [
    "file = open(\"Facundo\",encoding=\"utf-8\")\n",
    "nlp = spacy.load('es')\n"
   ]
  },
  {
   "cell_type": "code",
   "execution_count": 3,
   "metadata": {},
   "outputs": [],
   "source": [
    "#Vamos a remover el preludio y final del proyecto gutenberg\n",
    "Facundo = ''\n",
    "start = \"*** START OF THIS PROJECT GUTENBERG EBOOK FACUNDO ***\\n\"\n",
    "end = \"*** END OF THIS PROJECT GUTENBERG EBOOK FACUNDO ***\\n\"\n",
    "for line in iter(file.readline,start):\n",
    "    pass\n",
    "for line in iter(file.readline,end):\n",
    "    Facundo += line\n",
    "    \n",
    "Facundo = textacy.preprocess.preprocess_text(Facundo, no_punct=True)\n",
    "Facundo =  textacy.preprocess.remove_punct(Facundo, marks=\"\\n\")"
   ]
  },
  {
   "cell_type": "code",
   "execution_count": null,
   "metadata": {},
   "outputs": [],
   "source": [
    "file.close()\n",
    "doc_facundo = textacy.doc.Doc(Facundo)"
   ]
  },
  {
   "cell_type": "markdown",
   "metadata": {},
   "source": [
    "Aquí ya hemos generado el doc "
   ]
  },
  {
   "cell_type": "code",
   "execution_count": null,
   "metadata": {},
   "outputs": [],
   "source": [
    "#Aqui estamos generando un diccionario con las palabras que aparecian en el doc.\n",
    "term_facundo =  doc_facundo.to_bag_of_terms(as_strings=True,ngrams=1,filter_stop=True,filter_punct = True,filter_nums=True,\n",
    "                                            min_freq=3)\n",
    "del term_facundo['y']\n",
    "del term_facundo['']\n",
    "del term_facundo['a']\n",
    "del term_facundo['e']\n",
    "del term_facundo['o']\n",
    "del term_facundo['u']"
   ]
  },
  {
   "cell_type": "code",
   "execution_count": null,
   "metadata": {},
   "outputs": [],
   "source": [
    "\n"
   ]
  },
  {
   "cell_type": "code",
   "execution_count": null,
   "metadata": {},
   "outputs": [],
   "source": []
  },
  {
   "cell_type": "code",
   "execution_count": null,
   "metadata": {},
   "outputs": [],
   "source": []
  },
  {
   "cell_type": "code",
   "execution_count": null,
   "metadata": {},
   "outputs": [],
   "source": [
    "#Ahora ordenamos los valores, para ello lo hacemos usando tuplas.\n",
    "sorted_term = sorted(term_facundo.items(), key=lambda freq: freq[1],reverse=True)\n",
    "def frecuencia(array):\n",
    "    frec=[]\n",
    "    for i in array:\n",
    "        frec.append(i[1])\n",
    "    return frec\n",
    "\n",
    "def palabra(array):\n",
    "    palabra = []\n",
    "    for i in array:\n",
    "        palabra.append(i[0])\n",
    "    return palabra    \n"
   ]
  },
  {
   "cell_type": "code",
   "execution_count": null,
   "metadata": {},
   "outputs": [],
   "source": [
    "sorted_term[9]"
   ]
  },
  {
   "cell_type": "code",
   "execution_count": null,
   "metadata": {
    "scrolled": true
   },
   "outputs": [],
   "source": [
    "fig = plt.figure(figsize=(150,50))\n",
    "plt.bar(range(len(sorted_term)),frecuencia(sorted_term),align='center',)\n",
    "plt.xticks(range(len(term_facundo)),palabra(sorted_term),rotation='vertical')\n",
    "plt.tight_layout()\n",
    "plt.show()"
   ]
  },
  {
   "cell_type": "markdown",
   "metadata": {},
   "source": [
    "Extraer entidades:\n",
    "========="
   ]
  },
  {
   "cell_type": "code",
   "execution_count": null,
   "metadata": {},
   "outputs": [],
   "source": [
    "ent = textacy.extract.named_entities(doc_facundo, min_freq=10)\n",
    "ent = pd.Series(list(ent)).astype(str).str.replace(\",\",\" \").unique()\n",
    "ent = pd.DataFrame(ent,columns=['entidades'])\n",
    "display(ent)"
   ]
  },
  {
   "cell_type": "code",
   "execution_count": null,
   "metadata": {},
   "outputs": [],
   "source": []
  }
 ],
 "metadata": {
  "kernelspec": {
   "display_name": "Python 3",
   "language": "python",
   "name": "python3"
  },
  "language_info": {
   "codemirror_mode": {
    "name": "ipython",
    "version": 3
   },
   "file_extension": ".py",
   "mimetype": "text/x-python",
   "name": "python",
   "nbconvert_exporter": "python",
   "pygments_lexer": "ipython3",
   "version": "3.5.5"
  }
 },
 "nbformat": 4,
 "nbformat_minor": 2
}
