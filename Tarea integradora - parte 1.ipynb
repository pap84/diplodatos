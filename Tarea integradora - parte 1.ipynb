{
 "cells": [
  {
   "cell_type": "markdown",
   "metadata": {},
   "source": [
    "<center>\n",
    "<h4>Diplomatura AACSyA 2018 - FaMAF - UNC</h4>\n",
    "<h3>Análisis y visualización de datos</h3>\n",
    "</center>\n",
    "\n",
    "# Tarea integradora - Parte 1\n",
    "\n",
    "En esta notebook presentamos una serie de ejercicios para trabajar con variables aleatorias discretas, tanto númericas como cátegoricas, ejemplificando los conceptos de probabilidad explicados en clase. Lo primero es determinar si todas las librerías están correctamente instaladas."
   ]
  },
  {
   "cell_type": "code",
   "execution_count": 1,
   "metadata": {},
   "outputs": [],
   "source": [
    "# %matplotlib notebook\n",
    "%matplotlib inline\n",
    "import pandas\n",
    "import numpy\n",
    "import seaborn"
   ]
  },
  {
   "cell_type": "code",
   "execution_count": 2,
   "metadata": {},
   "outputs": [],
   "source": [
    "seaborn.set_style('whitegrid')\n",
    "seaborn.set_context('talk')"
   ]
  },
  {
   "cell_type": "markdown",
   "metadata": {},
   "source": [
    "## Cargar el dataset en un dataframe de pandas\n",
    "\n",
    "Los dataframes son tablas con un montón de operaciones ya programadas. Prácticamente todas las funciones de SQL se pueden realizar en pandas con pocas líneas. Además de eso, tiene funciones para leer y escribir archivos en numerosos formatos.\n",
    "\n",
    "Ahora leemos directamente el archivo .csv"
   ]
  },
  {
   "cell_type": "code",
   "execution_count": 3,
   "metadata": {},
   "outputs": [],
   "source": [
    "dataset = pandas.read_csv('https://cs.famaf.unc.edu.ar/~mteruel/datasets/diplodatos/violencia-institucional-2018-01.csv',\n",
    "                          encoding='utf8')"
   ]
  },
  {
   "cell_type": "code",
   "execution_count": 4,
   "metadata": {},
   "outputs": [
    {
     "data": {
      "text/html": [
       "<div>\n",
       "<style scoped>\n",
       "    .dataframe tbody tr th:only-of-type {\n",
       "        vertical-align: middle;\n",
       "    }\n",
       "\n",
       "    .dataframe tbody tr th {\n",
       "        vertical-align: top;\n",
       "    }\n",
       "\n",
       "    .dataframe thead th {\n",
       "        text-align: right;\n",
       "    }\n",
       "</style>\n",
       "<table border=\"1\" class=\"dataframe\">\n",
       "  <thead>\n",
       "    <tr style=\"text-align: right;\">\n",
       "      <th></th>\n",
       "      <th>area</th>\n",
       "      <th>organismo_origen</th>\n",
       "      <th>via_acceso</th>\n",
       "      <th>año</th>\n",
       "      <th>provincia</th>\n",
       "      <th>contexto</th>\n",
       "      <th>contexto1</th>\n",
       "      <th>circunstancia</th>\n",
       "      <th>alojamiento</th>\n",
       "      <th>violencia_fisica</th>\n",
       "      <th>violencia_psiquica</th>\n",
       "      <th>violencia_genero</th>\n",
       "      <th>violencia_salud</th>\n",
       "      <th>resumen_hecho</th>\n",
       "      <th>descripcion_institucion</th>\n",
       "      <th>establecimiento</th>\n",
       "      <th>Unnamed: 16</th>\n",
       "    </tr>\n",
       "  </thead>\n",
       "  <tbody>\n",
       "    <tr>\n",
       "      <th>0</th>\n",
       "      <td>DNPCVI</td>\n",
       "      <td>SECRETARIA DE DDHH</td>\n",
       "      <td>Telefónica</td>\n",
       "      <td>2017,00</td>\n",
       "      <td>Buenos Aires</td>\n",
       "      <td>Situaciones de Detención</td>\n",
       "      <td>Penal / Complejo Penitenciario PROVINCIAL</td>\n",
       "      <td>NaN</td>\n",
       "      <td>NaN</td>\n",
       "      <td>NaN</td>\n",
       "      <td>NaN</td>\n",
       "      <td>NaN</td>\n",
       "      <td>Denegación acceso atención médica</td>\n",
       "      <td>NaN</td>\n",
       "      <td>Servicio Penitenciario Provincial</td>\n",
       "      <td>UPP Nº 13 Junin</td>\n",
       "      <td>NaN</td>\n",
       "    </tr>\n",
       "    <tr>\n",
       "      <th>1</th>\n",
       "      <td>DNPCVI</td>\n",
       "      <td>SECRETARIA DE DDHH</td>\n",
       "      <td>Telefónica</td>\n",
       "      <td>2017,00</td>\n",
       "      <td>Buenos Aires</td>\n",
       "      <td>Situaciones de Detención</td>\n",
       "      <td>Penal / Complejo Penitenciario PROVINCIAL</td>\n",
       "      <td>NaN</td>\n",
       "      <td>Malas condiciones de alojamiento (higiene), Hu...</td>\n",
       "      <td>NaN</td>\n",
       "      <td>NaN</td>\n",
       "      <td>NaN</td>\n",
       "      <td>Denegación acceso atención médica</td>\n",
       "      <td>NaN</td>\n",
       "      <td>Servicio Penitenciario Provincial</td>\n",
       "      <td>UPP Nº 13 DE JUNIN</td>\n",
       "      <td>NaN</td>\n",
       "    </tr>\n",
       "    <tr>\n",
       "      <th>2</th>\n",
       "      <td>DNPCVI</td>\n",
       "      <td>SECRETARIA DE DDHH</td>\n",
       "      <td>Telefónica</td>\n",
       "      <td>2017,00</td>\n",
       "      <td>Buenos Aires</td>\n",
       "      <td>Situaciones de Detención</td>\n",
       "      <td>Penal / Complejo Penitenciario PROVINCIAL</td>\n",
       "      <td>NaN</td>\n",
       "      <td>Malas condiciones de alojamiento (higiene)</td>\n",
       "      <td>NaN</td>\n",
       "      <td>NaN</td>\n",
       "      <td>NaN</td>\n",
       "      <td>NaN</td>\n",
       "      <td>NaN</td>\n",
       "      <td>Servicio Penitenciario Provincial</td>\n",
       "      <td>UPP Nº 36 de Magdalena</td>\n",
       "      <td>NaN</td>\n",
       "    </tr>\n",
       "  </tbody>\n",
       "</table>\n",
       "</div>"
      ],
      "text/plain": [
       "     area    organismo_origen  via_acceso      año     provincia  \\\n",
       "0  DNPCVI  SECRETARIA DE DDHH  Telefónica  2017,00  Buenos Aires   \n",
       "1  DNPCVI  SECRETARIA DE DDHH  Telefónica  2017,00  Buenos Aires   \n",
       "2  DNPCVI  SECRETARIA DE DDHH  Telefónica  2017,00  Buenos Aires   \n",
       "\n",
       "                   contexto                                  contexto1  \\\n",
       "0  Situaciones de Detención  Penal / Complejo Penitenciario PROVINCIAL   \n",
       "1  Situaciones de Detención  Penal / Complejo Penitenciario PROVINCIAL   \n",
       "2  Situaciones de Detención  Penal / Complejo Penitenciario PROVINCIAL   \n",
       "\n",
       "  circunstancia                                        alojamiento  \\\n",
       "0           NaN                                                NaN   \n",
       "1           NaN  Malas condiciones de alojamiento (higiene), Hu...   \n",
       "2           NaN         Malas condiciones de alojamiento (higiene)   \n",
       "\n",
       "  violencia_fisica violencia_psiquica violencia_genero  \\\n",
       "0              NaN                NaN              NaN   \n",
       "1              NaN                NaN              NaN   \n",
       "2              NaN                NaN              NaN   \n",
       "\n",
       "                     violencia_salud  resumen_hecho  \\\n",
       "0  Denegación acceso atención médica            NaN   \n",
       "1  Denegación acceso atención médica            NaN   \n",
       "2                                NaN            NaN   \n",
       "\n",
       "             descripcion_institucion         establecimiento  Unnamed: 16  \n",
       "0  Servicio Penitenciario Provincial         UPP Nº 13 Junin          NaN  \n",
       "1  Servicio Penitenciario Provincial      UPP Nº 13 DE JUNIN          NaN  \n",
       "2  Servicio Penitenciario Provincial  UPP Nº 36 de Magdalena          NaN  "
      ]
     },
     "execution_count": 4,
     "metadata": {},
     "output_type": "execute_result"
    }
   ],
   "source": [
    "dataset[:3]"
   ]
  },
  {
   "cell_type": "markdown",
   "metadata": {},
   "source": [
    "Los valores para los años no tienen un formato consistente en todas las filas, por lo que los procesaremos antes de comenzar. Los valores de año faltantes son reemplazados por NaN, y como la representación de enteros de numpy no soporta este tipo de valores, convertiremos cada año a tipo numpy.float. Otras decisiones pueden ser tomadas en este punto, como reemplazar los valores faltantes por 0 o elminarlos del dataset, dependiendo del tipo de datos que se requiera.\n",
    "\n",
    "También cambiaremos el nombre de la columna año, ya que el caracter ñ no permite utilizar el syntax sugar de pandas donde se obtienen los valores de la columna con la sintáxis de llamar a un método."
   ]
  },
  {
   "cell_type": "code",
   "execution_count": 5,
   "metadata": {},
   "outputs": [],
   "source": [
    "import six\n",
    "def convert_to_int(row):\n",
    "    try:\n",
    "        return float(row)\n",
    "    except ValueError:\n",
    "        if isinstance(row, six.string_types):\n",
    "            return float(row.split(',')[0])\n",
    "        return row\n",
    "\n",
    "dataset.loc[:,'year'] = dataset[u'año'].apply(convert_to_int)\n",
    "# Se podrían también decodicar los nombres de provincias\n",
    "# dataset.loc[:,'provincia'] = dataset.provincia.apply(lambda x: x.decode(\"utf-8\"))"
   ]
  },
  {
   "cell_type": "code",
   "execution_count": 6,
   "metadata": {},
   "outputs": [
    {
     "data": {
      "text/plain": [
       "((1439, 18), (1316,))"
      ]
     },
     "execution_count": 6,
     "metadata": {},
     "output_type": "execute_result"
    }
   ],
   "source": [
    "dataset.shape, dataset.year.dropna().shape"
   ]
  },
  {
   "cell_type": "markdown",
   "metadata": {},
   "source": [
    "---\n",
    "# Ejercicios"
   ]
  },
  {
   "cell_type": "markdown",
   "metadata": {},
   "source": [
    "### Ejercicio 1\n",
    "\n",
    "* Crear una imagen mostrando la distribución de los eventos por año\n",
    "\n",
    "* Construir una tabla de frecuencia de probabilidades dado el evento Y = ’año en el que ocurrió’\n",
    "\n",
    "$$fdp(Y)$$\n",
    "\n",
    "* Crear una imagen de dichas probabilidades con el gráfico que considere adecuado. ¿Son ambos gráficos iguales? ¿Cuál considera que es más útil?\n",
    "\n",
    "* ¿A qué se debe la forma de la distribución? ¿Qué tendencia muestra? ¿Ha aumentado la violencia institucional en los últimos años?\n",
    "\n",
    "* Calcular la función de distribución acumulada de la variable Y y graficarla. ¿Cuál es la probabilidad de que haya dado un acto de violencia antes del último cambio de gobierno?\n",
    "\n",
    "IMPORTANTE: ¿Qué hacemos con los datos faltantes?"
   ]
  },
  {
   "cell_type": "markdown",
   "metadata": {},
   "source": [
    "a. Creación del histograma con paso por año"
   ]
  },
  {
   "cell_type": "code",
   "execution_count": 128,
   "metadata": {
    "scrolled": true
   },
   "outputs": [
    {
     "data": {
      "text/plain": [
       "1316"
      ]
     },
     "execution_count": 128,
     "metadata": {},
     "output_type": "execute_result"
    },
    {
     "data": {
      "image/png": "[encoded data removed]",
      "text/plain": [
       "<Figure size 432x288 with 1 Axes>"
      ]
     },
     "metadata": {},
     "output_type": "display_data"
    }
   ],
   "source": [
    "import matplotlib.pyplot as plt\n",
    "#bins por la cantidad de años del intervalo\n",
    "bins = int(dataset.year.max() - dataset.year.min()+1)\n",
    "#dataset.year.dropna().hist(bins=bins)\n",
    "# como no sabía que estaba haciendo la función hist() lo hago manual\n",
    "\n",
    "eventosporanio = dataset.year.dropna().value_counts()\n",
    "table = eventosporanio.to_frame()\n",
    "eventos = [table.get_values().tolist()[i][0]\n",
    "               for i in range(len(table.get_values().tolist()))]\n",
    "years = [int(table.index.values.tolist()[i]) \n",
    "         for i in range(len(table.index.values.tolist()))]\n",
    "datos = {'Events': eventos, 'Years': years}\n",
    "histograma = pandas.DataFrame(data=datos)\n",
    "axe = seaborn.barplot(data=histograma, x='Years', y='Events')\n",
    "axe.set_xticklabels(ax.get_xticklabels(), rotation=90)\n",
    "seaborn.despine()\n",
    "#seaborn.distplot(eventos, bins=bins, label=years)\n",
    "#plt.show()"
   ]
  },
  {
   "cell_type": "markdown",
   "metadata": {},
   "source": [
    "b. Creación de la tabla frecuencia de probabilidades por año"
   ]
  },
  {
   "cell_type": "code",
   "execution_count": 136,
   "metadata": {},
   "outputs": [
    {
     "data": {
      "text/html": [
       "<div>\n",
       "<style scoped>\n",
       "    .dataframe tbody tr th:only-of-type {\n",
       "        vertical-align: middle;\n",
       "    }\n",
       "\n",
       "    .dataframe tbody tr th {\n",
       "        vertical-align: top;\n",
       "    }\n",
       "\n",
       "    .dataframe thead th {\n",
       "        text-align: right;\n",
       "    }\n",
       "</style>\n",
       "<table border=\"1\" class=\"dataframe\">\n",
       "  <thead>\n",
       "    <tr style=\"text-align: right;\">\n",
       "      <th></th>\n",
       "      <th>FdP</th>\n",
       "      <th>Year</th>\n",
       "    </tr>\n",
       "  </thead>\n",
       "  <tbody>\n",
       "    <tr>\n",
       "      <th>0</th>\n",
       "      <td>0.178</td>\n",
       "      <td>2017</td>\n",
       "    </tr>\n",
       "    <tr>\n",
       "      <th>1</th>\n",
       "      <td>0.226</td>\n",
       "      <td>2016</td>\n",
       "    </tr>\n",
       "    <tr>\n",
       "      <th>2</th>\n",
       "      <td>0.066</td>\n",
       "      <td>2015</td>\n",
       "    </tr>\n",
       "    <tr>\n",
       "      <th>3</th>\n",
       "      <td>0.183</td>\n",
       "      <td>2014</td>\n",
       "    </tr>\n",
       "    <tr>\n",
       "      <th>4</th>\n",
       "      <td>0.217</td>\n",
       "      <td>2013</td>\n",
       "    </tr>\n",
       "    <tr>\n",
       "      <th>5</th>\n",
       "      <td>0.047</td>\n",
       "      <td>2012</td>\n",
       "    </tr>\n",
       "    <tr>\n",
       "      <th>6</th>\n",
       "      <td>0.012</td>\n",
       "      <td>2011</td>\n",
       "    </tr>\n",
       "    <tr>\n",
       "      <th>7</th>\n",
       "      <td>0.016</td>\n",
       "      <td>2010</td>\n",
       "    </tr>\n",
       "    <tr>\n",
       "      <th>8</th>\n",
       "      <td>0.008</td>\n",
       "      <td>2009</td>\n",
       "    </tr>\n",
       "    <tr>\n",
       "      <th>9</th>\n",
       "      <td>0.004</td>\n",
       "      <td>2008</td>\n",
       "    </tr>\n",
       "    <tr>\n",
       "      <th>10</th>\n",
       "      <td>0.004</td>\n",
       "      <td>2007</td>\n",
       "    </tr>\n",
       "    <tr>\n",
       "      <th>11</th>\n",
       "      <td>0.002</td>\n",
       "      <td>2006</td>\n",
       "    </tr>\n",
       "    <tr>\n",
       "      <th>12</th>\n",
       "      <td>0.002</td>\n",
       "      <td>2005</td>\n",
       "    </tr>\n",
       "    <tr>\n",
       "      <th>13</th>\n",
       "      <td>0.002</td>\n",
       "      <td>2004</td>\n",
       "    </tr>\n",
       "    <tr>\n",
       "      <th>14</th>\n",
       "      <td>0.007</td>\n",
       "      <td>2003</td>\n",
       "    </tr>\n",
       "    <tr>\n",
       "      <th>15</th>\n",
       "      <td>0.005</td>\n",
       "      <td>2002</td>\n",
       "    </tr>\n",
       "    <tr>\n",
       "      <th>16</th>\n",
       "      <td>0.002</td>\n",
       "      <td>2001</td>\n",
       "    </tr>\n",
       "    <tr>\n",
       "      <th>17</th>\n",
       "      <td>0.002</td>\n",
       "      <td>2000</td>\n",
       "    </tr>\n",
       "    <tr>\n",
       "      <th>18</th>\n",
       "      <td>0.002</td>\n",
       "      <td>1999</td>\n",
       "    </tr>\n",
       "    <tr>\n",
       "      <th>19</th>\n",
       "      <td>0.002</td>\n",
       "      <td>1998</td>\n",
       "    </tr>\n",
       "    <tr>\n",
       "      <th>20</th>\n",
       "      <td>0.001</td>\n",
       "      <td>1997</td>\n",
       "    </tr>\n",
       "    <tr>\n",
       "      <th>21</th>\n",
       "      <td>0.001</td>\n",
       "      <td>1996</td>\n",
       "    </tr>\n",
       "    <tr>\n",
       "      <th>22</th>\n",
       "      <td>0.002</td>\n",
       "      <td>1994</td>\n",
       "    </tr>\n",
       "    <tr>\n",
       "      <th>23</th>\n",
       "      <td>0.002</td>\n",
       "      <td>1993</td>\n",
       "    </tr>\n",
       "    <tr>\n",
       "      <th>24</th>\n",
       "      <td>0.004</td>\n",
       "      <td>1991</td>\n",
       "    </tr>\n",
       "    <tr>\n",
       "      <th>25</th>\n",
       "      <td>0.004</td>\n",
       "      <td>1990</td>\n",
       "    </tr>\n",
       "    <tr>\n",
       "      <th>26</th>\n",
       "      <td>0.001</td>\n",
       "      <td>1989</td>\n",
       "    </tr>\n",
       "    <tr>\n",
       "      <th>27</th>\n",
       "      <td>0.001</td>\n",
       "      <td>1988</td>\n",
       "    </tr>\n",
       "  </tbody>\n",
       "</table>\n",
       "</div>"
      ],
      "text/plain": [
       "      FdP  Year\n",
       "0   0.178  2017\n",
       "1   0.226  2016\n",
       "2   0.066  2015\n",
       "3   0.183  2014\n",
       "4   0.217  2013\n",
       "5   0.047  2012\n",
       "6   0.012  2011\n",
       "7   0.016  2010\n",
       "8   0.008  2009\n",
       "9   0.004  2008\n",
       "10  0.004  2007\n",
       "11  0.002  2006\n",
       "12  0.002  2005\n",
       "13  0.002  2004\n",
       "14  0.007  2003\n",
       "15  0.005  2002\n",
       "16  0.002  2001\n",
       "17  0.002  2000\n",
       "18  0.002  1999\n",
       "19  0.002  1998\n",
       "20  0.001  1997\n",
       "21  0.001  1996\n",
       "22  0.002  1994\n",
       "23  0.002  1993\n",
       "24  0.004  1991\n",
       "25  0.004  1990\n",
       "26  0.001  1989\n",
       "27  0.001  1988"
      ]
     },
     "execution_count": 136,
     "metadata": {},
     "output_type": "execute_result"
    }
   ],
   "source": [
    "#a = dataset.year.drop_duplicates().dropna()\n",
    "#b = dataset.year.dropna().groupby(a)\n",
    "#b\n",
    "#c = numpy.histogram(dataset.year.dropna(), bins=bins)\n",
    "#eventos = c[0]\n",
    "#anios = c[1]\n",
    "#frec2 = eventos/sum(eventos)\n",
    "#a = pandas.crosstab(index=dataset.year.dropna(), columns=anios)\n",
    "#a\n",
    "## otra forma\n",
    "fpds = dataset.year.dropna().value_counts(normalize=True)\n",
    "frame = fpds.to_frame()\n",
    "# defino los años de forma descendente porque prefiero mostrar los resultados empezando\n",
    "# por el año más próximo\n",
    "tabla = frame.sort_index(level=0,ascending=False)\n",
    "tabla.index.names = ['Year']\n",
    "frecuencias = [round(tabla.get_values().tolist()[i][0],3) \n",
    "               for i in range(len(tabla.get_values().tolist()))]\n",
    "anios = [int(tabla.index.values.tolist()[i]) \n",
    "         for i in range(len(tabla.index.values.tolist()))]\n",
    "data = {'Year':anios, 'FdP':frecuencias}\n",
    "df = pandas.DataFrame(data=data)\n",
    "# en este segundo caso sum(frecuencias) = 0.9900000000000001 y en la forma anterior = 1.0\n",
    "# pero esta es más bonita y podemos tomar 0.99 = 1 a los fines prácticos\n",
    "df"
   ]
  },
  {
   "cell_type": "markdown",
   "metadata": {},
   "source": [
    "c. Gráfico de frecuencia de probabilidades"
   ]
  },
  {
   "cell_type": "code",
   "execution_count": 138,
   "metadata": {
    "scrolled": true
   },
   "outputs": [
    {
     "data": {
      "image/png": "[encoded data removed]",
      "text/plain": [
       "<Figure size 432x288 with 1 Axes>"
      ]
     },
     "metadata": {},
     "output_type": "display_data"
    }
   ],
   "source": [
    "ax = seaborn.barplot(data=df, x='Year', y='FdP', palette='muted')\n",
    "#labels = [str(i) for i in range(int(dataset.year.min()),int(dataset.year.max())+1)]\n",
    "ax.set_xticklabels(ax.get_xticklabels(), rotation=90)\n",
    "seaborn.despine()\n",
    "# corregir los xtickslabels para convertirlos en enteros, y ver de mostrar menos"
   ]
  },
  {
   "cell_type": "markdown",
   "metadata": {},
   "source": [
    "Los gráficos tienen el mismo comportamiento pero no son iguales, ya que uno indica numéricamente los eventos por año y el otro la pobabilidad de que, dado un evento, este haya ocurrido en el año X.\n",
    "\n",
    "En pocas palabras, la información del primero puede proveer la información del segundo, pero el segundo 'pierde información' al no dar idea de la magnitud de los eventos.\n",
    "\n",
    "¿Cuál es mejor mostrar? Depende de las necesidades del comunicador o el analista. Para un analista puede importarle saber la probabilidad de que un evento haya ocurrido en un año u otro, pero para un comunicador, mostrar la cantidad exactas de eventos por año puede dar una idea de la magnitud de los eventos. Como en este caso se habla de violencia institucional, el número de eventos no es despreciable, por lo que un gráfico que no muestre esto, puede estar ocultando información útil a, por ejemplo, el lector de un diario o un blog."
   ]
  },
  {
   "cell_type": "markdown",
   "metadata": {},
   "source": [
    "c. Sin analizar el contexto de la muestra, se puede decir que hay un incremento notable de la violencia institucional desde 2009, aproximadamente. En cambio, si uno estudia el contexto, fue en ese momento en el cual se empezó a hablar de violencia institucional como política de estado, lo que culminó con la **Campaña Nacional contra la Violencia Institucional** [lanzada](https://www.cels.org.ar/web/2012/06/campana-nacional-contra-la-violencia-institucional/) desde el Salón de los Pasos Perdidos en 2012. Este último dato no menor, indicaría que se ha tomado conciencia del hecho y que la muestra se puede considerar '*util*' recién a partir de que se implementa correctamente y se establecen los mecanismos adecuados. Por esto, uno debe esperar un tiempo prudencial para que se transforme en cultura institucional. \n",
    "\n",
    "Según los datos y el contexto, se podría decir que los datos importantes deben ser analizados desde 2013. La violencia institucional creció con momentos de crisis económica, bajó en contexto de mejoría económica y contexto electoral en 2015 y volvió a subir nuevamente al asumir el nuevo gobierno, también con crisis económica. \n",
    "\n",
    "Uno debería esperar que se alcance un *plateau* en la relación denuncias vs. evento real (ya que no se puede desconocer que existe la posibilidad desde ahora) pero que crecerá con la crisis económica."
   ]
  },
  {
   "cell_type": "markdown",
   "metadata": {},
   "source": [
    "c. Función de distribución acumulada\n",
    "\n",
    "La función de distribución acumulada (FDA = $F(x_i)$) se define a partir de la función de densidad de probabilidad (FDP = $f(x_i)$), de la siguiente forma:\n",
    "\n",
    "$F(x) = \\sum_{x \\leq x_i} f(x_i)$"
   ]
  },
  {
   "cell_type": "code",
   "execution_count": 197,
   "metadata": {
    "scrolled": true
   },
   "outputs": [
    {
     "name": "stderr",
     "output_type": "stream",
     "text": [
      "/anaconda3/envs/diplodatos-ayv/lib/python3.5/site-packages/matplotlib/axes/_axes.py:6462: UserWarning: The 'normed' kwarg is deprecated, and has been replaced by the 'density' kwarg.\n",
      "  warnings.warn(\"The 'normed' kwarg is deprecated, and has been \"\n"
     ]
    },
    {
     "data": {
      "image/png": "[encoded data removed]",
      "text/plain": [
       "<Figure size 432x288 with 1 Axes>"
      ]
     },
     "metadata": {},
     "output_type": "display_data"
    }
   ],
   "source": [
    "#df.Year.hist(cumulative=True, bins=bins)\n",
    "#dataset.year.dropna().hist(cumulative=True, normalize=True)\n",
    "seaborn.distplot(dataset.year.dropna(),\n",
    "                 hist_kws=dict(cumulative=True),\n",
    "                 kde_kws=dict(cumulative=True),\n",
    "                 bins=bins)\n",
    "plt.show()"
   ]
  },
  {
   "cell_type": "code",
   "execution_count": 189,
   "metadata": {},
   "outputs": [
    {
     "data": {
      "text/plain": [
       "0.5965045592705167"
      ]
     },
     "execution_count": 189,
     "metadata": {},
     "output_type": "execute_result"
    },
    {
     "data": {
      "image/png": "[encoded data removed]",
      "text/plain": [
       "<Figure size 432x288 with 1 Axes>"
      ]
     },
     "metadata": {},
     "output_type": "display_data"
    }
   ],
   "source": [
    "index = fpds.sort_index().index\n",
    "def fda(x):\n",
    "    fda = 0\n",
    "    for i in index:\n",
    "        if i > x:\n",
    "            break\n",
    "        fda = fda + fpds[i]\n",
    "    return fda\n",
    "fda_array = [fda(i) for i in index]\n",
    "plt.plot(index,fda_array)\n",
    "fda(2015)"
   ]
  },
  {
   "cell_type": "markdown",
   "metadata": {},
   "source": [
    "## Ejercicio 2\n",
    "\n",
    "* Construir una tabla de frecuencia de probabilidades dado el evento X = ’provincia donde se desarrollo el hecho’\n",
    "\n",
    "$$fdp(X)$$\n",
    "\n",
    "* ¿Qué información adicional es necesaria para mostrar estos datos de manera más adecuada?\n",
    "* Muestre la distribución de los eventos visualmente. ¿Qué tipo de gráfico es más adecuado para mostrar esta información?"
   ]
  },
  {
   "cell_type": "markdown",
   "metadata": {},
   "source": [
    "### Ejercicio 3\n",
    "\n",
    "* Construir una tabla de doble entrada donde se observen las función de distribución de probabilidades con las 2 variables aleatorias anteriores.\n",
    "¿Son eventos independientes?\n",
    "\n",
    "* Crear una imagen de dichas probabilidades con el gráfico que considere adecuado.\n"
   ]
  },
  {
   "cell_type": "markdown",
   "metadata": {},
   "source": [
    "## Ejercicio 4\n",
    "\n",
    "Dada la variable aleatoria Z = ’contexto1 en el que se produjo el hecho’, calcular la probabilidad que el hecho sea producido en una dependencia de una fuerza de seguridad (penal, comisaría, etc)\n",
    "\n",
    "$$ fdp(z=penal ~~ |~~  z=comisaria ~~ | ...) $$"
   ]
  },
  {
   "cell_type": "markdown",
   "metadata": {},
   "source": [
    "## Ejercicio 5\n",
    "\n",
    "Dada la variable aleatoria M = ‘existió violencia fisica’:\n",
    "* ¿Que probabilidad existe que también tenga violencia psíquica? N = ‘existió violencia psíquica’\n",
    "\n",
    "$$P(M~~|~~N)$$\n",
    "\n",
    "* ¿Qué conclusión se puede formular de los datos que tenemos y los datos que obtenemos de los métodos probabilísticos?\n",
    "* ¿Podemos concluir en que son eventos independientes dadas las muestras?"
   ]
  },
  {
   "cell_type": "code",
   "execution_count": null,
   "metadata": {
    "collapsed": true
   },
   "outputs": [],
   "source": []
  }
 ],
 "metadata": {
  "kernelspec": {
   "display_name": "Python [conda env:diplodatos-ayv]",
   "language": "python",
   "name": "conda-env-diplodatos-ayv-py"
  },
  "language_info": {
   "codemirror_mode": {
    "name": "ipython",
    "version": 3
   },
   "file_extension": ".py",
   "mimetype": "text/x-python",
   "name": "python",
   "nbconvert_exporter": "python",
   "pygments_lexer": "ipython3",
   "version": "3.5.5"
  }
 },
 "nbformat": 4,
 "nbformat_minor": 2
}
